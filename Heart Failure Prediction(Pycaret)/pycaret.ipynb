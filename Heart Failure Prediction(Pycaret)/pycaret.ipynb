{
 "cells": [
  {
   "cell_type": "code",
   "execution_count": 1,
   "id": "959b78ab",
   "metadata": {},
   "outputs": [],
   "source": [
    "import pandas as pd"
   ]
  },
  {
   "cell_type": "code",
   "execution_count": 2,
   "id": "ae8c852b",
   "metadata": {},
   "outputs": [
    {
     "name": "stdout",
     "output_type": "stream",
     "text": [
      "<class 'pandas.core.frame.DataFrame'>\n",
      "RangeIndex: 299 entries, 0 to 298\n",
      "Data columns (total 13 columns):\n",
      " #   Column                    Non-Null Count  Dtype  \n",
      "---  ------                    --------------  -----  \n",
      " 0   age                       299 non-null    float64\n",
      " 1   anaemia                   299 non-null    int64  \n",
      " 2   creatinine_phosphokinase  299 non-null    int64  \n",
      " 3   diabetes                  299 non-null    int64  \n",
      " 4   ejection_fraction         299 non-null    int64  \n",
      " 5   high_blood_pressure       299 non-null    int64  \n",
      " 6   platelets                 299 non-null    float64\n",
      " 7   serum_creatinine          299 non-null    float64\n",
      " 8   serum_sodium              299 non-null    int64  \n",
      " 9   sex                       299 non-null    int64  \n",
      " 10  smoking                   299 non-null    int64  \n",
      " 11  time                      299 non-null    int64  \n",
      " 12  DEATH_EVENT               299 non-null    int64  \n",
      "dtypes: float64(3), int64(10)\n",
      "memory usage: 30.5 KB\n"
     ]
    }
   ],
   "source": [
    "df = pd.read_csv('heart_failure_clinical_records_dataset.csv')\n",
    "\n",
    "df.info()"
   ]
  },
  {
   "cell_type": "code",
   "execution_count": 3,
   "id": "54b0e105",
   "metadata": {},
   "outputs": [],
   "source": [
    "from pycaret.classification import *"
   ]
  },
  {
   "cell_type": "code",
   "execution_count": 4,
   "id": "18261a5e",
   "metadata": {},
   "outputs": [
    {
     "data": {
      "text/html": [
       "<style type=\"text/css\">\n",
       "#T_91e3e_row8_col1 {\n",
       "  background-color: lightgreen;\n",
       "}\n",
       "</style>\n",
       "<table id=\"T_91e3e\">\n",
       "  <thead>\n",
       "    <tr>\n",
       "      <th class=\"blank level0\" >&nbsp;</th>\n",
       "      <th id=\"T_91e3e_level0_col0\" class=\"col_heading level0 col0\" >Description</th>\n",
       "      <th id=\"T_91e3e_level0_col1\" class=\"col_heading level0 col1\" >Value</th>\n",
       "    </tr>\n",
       "  </thead>\n",
       "  <tbody>\n",
       "    <tr>\n",
       "      <th id=\"T_91e3e_level0_row0\" class=\"row_heading level0 row0\" >0</th>\n",
       "      <td id=\"T_91e3e_row0_col0\" class=\"data row0 col0\" >Session id</td>\n",
       "      <td id=\"T_91e3e_row0_col1\" class=\"data row0 col1\" >123</td>\n",
       "    </tr>\n",
       "    <tr>\n",
       "      <th id=\"T_91e3e_level0_row1\" class=\"row_heading level0 row1\" >1</th>\n",
       "      <td id=\"T_91e3e_row1_col0\" class=\"data row1 col0\" >Target</td>\n",
       "      <td id=\"T_91e3e_row1_col1\" class=\"data row1 col1\" >DEATH_EVENT</td>\n",
       "    </tr>\n",
       "    <tr>\n",
       "      <th id=\"T_91e3e_level0_row2\" class=\"row_heading level0 row2\" >2</th>\n",
       "      <td id=\"T_91e3e_row2_col0\" class=\"data row2 col0\" >Target type</td>\n",
       "      <td id=\"T_91e3e_row2_col1\" class=\"data row2 col1\" >Binary</td>\n",
       "    </tr>\n",
       "    <tr>\n",
       "      <th id=\"T_91e3e_level0_row3\" class=\"row_heading level0 row3\" >3</th>\n",
       "      <td id=\"T_91e3e_row3_col0\" class=\"data row3 col0\" >Original data shape</td>\n",
       "      <td id=\"T_91e3e_row3_col1\" class=\"data row3 col1\" >(299, 13)</td>\n",
       "    </tr>\n",
       "    <tr>\n",
       "      <th id=\"T_91e3e_level0_row4\" class=\"row_heading level0 row4\" >4</th>\n",
       "      <td id=\"T_91e3e_row4_col0\" class=\"data row4 col0\" >Transformed data shape</td>\n",
       "      <td id=\"T_91e3e_row4_col1\" class=\"data row4 col1\" >(299, 13)</td>\n",
       "    </tr>\n",
       "    <tr>\n",
       "      <th id=\"T_91e3e_level0_row5\" class=\"row_heading level0 row5\" >5</th>\n",
       "      <td id=\"T_91e3e_row5_col0\" class=\"data row5 col0\" >Transformed train set shape</td>\n",
       "      <td id=\"T_91e3e_row5_col1\" class=\"data row5 col1\" >(209, 13)</td>\n",
       "    </tr>\n",
       "    <tr>\n",
       "      <th id=\"T_91e3e_level0_row6\" class=\"row_heading level0 row6\" >6</th>\n",
       "      <td id=\"T_91e3e_row6_col0\" class=\"data row6 col0\" >Transformed test set shape</td>\n",
       "      <td id=\"T_91e3e_row6_col1\" class=\"data row6 col1\" >(90, 13)</td>\n",
       "    </tr>\n",
       "    <tr>\n",
       "      <th id=\"T_91e3e_level0_row7\" class=\"row_heading level0 row7\" >7</th>\n",
       "      <td id=\"T_91e3e_row7_col0\" class=\"data row7 col0\" >Numeric features</td>\n",
       "      <td id=\"T_91e3e_row7_col1\" class=\"data row7 col1\" >12</td>\n",
       "    </tr>\n",
       "    <tr>\n",
       "      <th id=\"T_91e3e_level0_row8\" class=\"row_heading level0 row8\" >8</th>\n",
       "      <td id=\"T_91e3e_row8_col0\" class=\"data row8 col0\" >Preprocess</td>\n",
       "      <td id=\"T_91e3e_row8_col1\" class=\"data row8 col1\" >True</td>\n",
       "    </tr>\n",
       "    <tr>\n",
       "      <th id=\"T_91e3e_level0_row9\" class=\"row_heading level0 row9\" >9</th>\n",
       "      <td id=\"T_91e3e_row9_col0\" class=\"data row9 col0\" >Imputation type</td>\n",
       "      <td id=\"T_91e3e_row9_col1\" class=\"data row9 col1\" >simple</td>\n",
       "    </tr>\n",
       "    <tr>\n",
       "      <th id=\"T_91e3e_level0_row10\" class=\"row_heading level0 row10\" >10</th>\n",
       "      <td id=\"T_91e3e_row10_col0\" class=\"data row10 col0\" >Numeric imputation</td>\n",
       "      <td id=\"T_91e3e_row10_col1\" class=\"data row10 col1\" >mean</td>\n",
       "    </tr>\n",
       "    <tr>\n",
       "      <th id=\"T_91e3e_level0_row11\" class=\"row_heading level0 row11\" >11</th>\n",
       "      <td id=\"T_91e3e_row11_col0\" class=\"data row11 col0\" >Categorical imputation</td>\n",
       "      <td id=\"T_91e3e_row11_col1\" class=\"data row11 col1\" >mode</td>\n",
       "    </tr>\n",
       "    <tr>\n",
       "      <th id=\"T_91e3e_level0_row12\" class=\"row_heading level0 row12\" >12</th>\n",
       "      <td id=\"T_91e3e_row12_col0\" class=\"data row12 col0\" >Fold Generator</td>\n",
       "      <td id=\"T_91e3e_row12_col1\" class=\"data row12 col1\" >StratifiedKFold</td>\n",
       "    </tr>\n",
       "    <tr>\n",
       "      <th id=\"T_91e3e_level0_row13\" class=\"row_heading level0 row13\" >13</th>\n",
       "      <td id=\"T_91e3e_row13_col0\" class=\"data row13 col0\" >Fold Number</td>\n",
       "      <td id=\"T_91e3e_row13_col1\" class=\"data row13 col1\" >10</td>\n",
       "    </tr>\n",
       "    <tr>\n",
       "      <th id=\"T_91e3e_level0_row14\" class=\"row_heading level0 row14\" >14</th>\n",
       "      <td id=\"T_91e3e_row14_col0\" class=\"data row14 col0\" >CPU Jobs</td>\n",
       "      <td id=\"T_91e3e_row14_col1\" class=\"data row14 col1\" >-1</td>\n",
       "    </tr>\n",
       "    <tr>\n",
       "      <th id=\"T_91e3e_level0_row15\" class=\"row_heading level0 row15\" >15</th>\n",
       "      <td id=\"T_91e3e_row15_col0\" class=\"data row15 col0\" >Use GPU</td>\n",
       "      <td id=\"T_91e3e_row15_col1\" class=\"data row15 col1\" >False</td>\n",
       "    </tr>\n",
       "    <tr>\n",
       "      <th id=\"T_91e3e_level0_row16\" class=\"row_heading level0 row16\" >16</th>\n",
       "      <td id=\"T_91e3e_row16_col0\" class=\"data row16 col0\" >Log Experiment</td>\n",
       "      <td id=\"T_91e3e_row16_col1\" class=\"data row16 col1\" >False</td>\n",
       "    </tr>\n",
       "    <tr>\n",
       "      <th id=\"T_91e3e_level0_row17\" class=\"row_heading level0 row17\" >17</th>\n",
       "      <td id=\"T_91e3e_row17_col0\" class=\"data row17 col0\" >Experiment Name</td>\n",
       "      <td id=\"T_91e3e_row17_col1\" class=\"data row17 col1\" >clf-default-name</td>\n",
       "    </tr>\n",
       "    <tr>\n",
       "      <th id=\"T_91e3e_level0_row18\" class=\"row_heading level0 row18\" >18</th>\n",
       "      <td id=\"T_91e3e_row18_col0\" class=\"data row18 col0\" >USI</td>\n",
       "      <td id=\"T_91e3e_row18_col1\" class=\"data row18 col1\" >bd75</td>\n",
       "    </tr>\n",
       "  </tbody>\n",
       "</table>\n"
      ],
      "text/plain": [
       "<pandas.io.formats.style.Styler at 0x1f1623da7d0>"
      ]
     },
     "metadata": {},
     "output_type": "display_data"
    },
    {
     "data": {
      "text/plain": [
       "<pycaret.classification.oop.ClassificationExperiment at 0x1f16223a210>"
      ]
     },
     "execution_count": 4,
     "metadata": {},
     "output_type": "execute_result"
    }
   ],
   "source": [
    "s = ClassificationExperiment()\n",
    "s.setup(df, target='DEATH_EVENT', session_id=123)\n"
   ]
  },
  {
   "cell_type": "code",
   "execution_count": 5,
   "id": "abe1ae39",
   "metadata": {},
   "outputs": [
    {
     "data": {
      "text/html": [],
      "text/plain": [
       "<IPython.core.display.HTML object>"
      ]
     },
     "metadata": {},
     "output_type": "display_data"
    },
    {
     "data": {
      "text/html": [
       "<style type=\"text/css\">\n",
       "#T_0d96e th {\n",
       "  text-align: left;\n",
       "}\n",
       "#T_0d96e_row0_col0, #T_0d96e_row0_col4, #T_0d96e_row1_col0, #T_0d96e_row1_col1, #T_0d96e_row1_col2, #T_0d96e_row1_col3, #T_0d96e_row1_col5, #T_0d96e_row1_col6, #T_0d96e_row1_col7, #T_0d96e_row2_col0, #T_0d96e_row2_col1, #T_0d96e_row2_col2, #T_0d96e_row2_col3, #T_0d96e_row2_col4, #T_0d96e_row2_col5, #T_0d96e_row2_col6, #T_0d96e_row2_col7, #T_0d96e_row3_col0, #T_0d96e_row3_col1, #T_0d96e_row3_col2, #T_0d96e_row3_col3, #T_0d96e_row3_col4, #T_0d96e_row3_col5, #T_0d96e_row3_col6, #T_0d96e_row3_col7, #T_0d96e_row4_col0, #T_0d96e_row4_col1, #T_0d96e_row4_col2, #T_0d96e_row4_col3, #T_0d96e_row4_col4, #T_0d96e_row4_col5, #T_0d96e_row4_col6, #T_0d96e_row4_col7, #T_0d96e_row5_col0, #T_0d96e_row5_col1, #T_0d96e_row5_col2, #T_0d96e_row5_col3, #T_0d96e_row5_col4, #T_0d96e_row5_col5, #T_0d96e_row5_col6, #T_0d96e_row5_col7, #T_0d96e_row6_col0, #T_0d96e_row6_col1, #T_0d96e_row6_col2, #T_0d96e_row6_col3, #T_0d96e_row6_col4, #T_0d96e_row6_col5, #T_0d96e_row6_col6, #T_0d96e_row6_col7, #T_0d96e_row7_col0, #T_0d96e_row7_col1, #T_0d96e_row7_col2, #T_0d96e_row7_col3, #T_0d96e_row7_col4, #T_0d96e_row7_col5, #T_0d96e_row7_col6, #T_0d96e_row7_col7, #T_0d96e_row8_col0, #T_0d96e_row8_col1, #T_0d96e_row8_col2, #T_0d96e_row8_col3, #T_0d96e_row8_col4, #T_0d96e_row8_col5, #T_0d96e_row8_col6, #T_0d96e_row8_col7, #T_0d96e_row9_col0, #T_0d96e_row9_col1, #T_0d96e_row9_col2, #T_0d96e_row9_col3, #T_0d96e_row9_col4, #T_0d96e_row9_col5, #T_0d96e_row9_col6, #T_0d96e_row9_col7, #T_0d96e_row10_col0, #T_0d96e_row10_col1, #T_0d96e_row10_col2, #T_0d96e_row10_col3, #T_0d96e_row10_col4, #T_0d96e_row10_col5, #T_0d96e_row10_col6, #T_0d96e_row10_col7, #T_0d96e_row11_col0, #T_0d96e_row11_col1, #T_0d96e_row11_col2, #T_0d96e_row11_col3, #T_0d96e_row11_col4, #T_0d96e_row11_col5, #T_0d96e_row11_col6, #T_0d96e_row11_col7, #T_0d96e_row12_col0, #T_0d96e_row12_col1, #T_0d96e_row12_col2, #T_0d96e_row12_col3, #T_0d96e_row12_col4, #T_0d96e_row12_col5, #T_0d96e_row12_col6, #T_0d96e_row12_col7, #T_0d96e_row13_col0, #T_0d96e_row13_col1, #T_0d96e_row13_col2, #T_0d96e_row13_col3, #T_0d96e_row13_col4, #T_0d96e_row13_col5, #T_0d96e_row13_col6, #T_0d96e_row13_col7 {\n",
       "  text-align: left;\n",
       "}\n",
       "#T_0d96e_row0_col1, #T_0d96e_row0_col2, #T_0d96e_row0_col3, #T_0d96e_row0_col5, #T_0d96e_row0_col6, #T_0d96e_row0_col7, #T_0d96e_row1_col4 {\n",
       "  text-align: left;\n",
       "  background-color: yellow;\n",
       "}\n",
       "#T_0d96e_row0_col8, #T_0d96e_row1_col8, #T_0d96e_row2_col8, #T_0d96e_row3_col8, #T_0d96e_row4_col8, #T_0d96e_row5_col8, #T_0d96e_row7_col8, #T_0d96e_row8_col8, #T_0d96e_row9_col8, #T_0d96e_row10_col8, #T_0d96e_row12_col8 {\n",
       "  text-align: left;\n",
       "  background-color: lightgrey;\n",
       "}\n",
       "#T_0d96e_row6_col8, #T_0d96e_row11_col8, #T_0d96e_row13_col8 {\n",
       "  text-align: left;\n",
       "  background-color: yellow;\n",
       "  background-color: lightgrey;\n",
       "}\n",
       "</style>\n",
       "<table id=\"T_0d96e\">\n",
       "  <thead>\n",
       "    <tr>\n",
       "      <th class=\"blank level0\" >&nbsp;</th>\n",
       "      <th id=\"T_0d96e_level0_col0\" class=\"col_heading level0 col0\" >Model</th>\n",
       "      <th id=\"T_0d96e_level0_col1\" class=\"col_heading level0 col1\" >Accuracy</th>\n",
       "      <th id=\"T_0d96e_level0_col2\" class=\"col_heading level0 col2\" >AUC</th>\n",
       "      <th id=\"T_0d96e_level0_col3\" class=\"col_heading level0 col3\" >Recall</th>\n",
       "      <th id=\"T_0d96e_level0_col4\" class=\"col_heading level0 col4\" >Prec.</th>\n",
       "      <th id=\"T_0d96e_level0_col5\" class=\"col_heading level0 col5\" >F1</th>\n",
       "      <th id=\"T_0d96e_level0_col6\" class=\"col_heading level0 col6\" >Kappa</th>\n",
       "      <th id=\"T_0d96e_level0_col7\" class=\"col_heading level0 col7\" >MCC</th>\n",
       "      <th id=\"T_0d96e_level0_col8\" class=\"col_heading level0 col8\" >TT (Sec)</th>\n",
       "    </tr>\n",
       "  </thead>\n",
       "  <tbody>\n",
       "    <tr>\n",
       "      <th id=\"T_0d96e_level0_row0\" class=\"row_heading level0 row0\" >rf</th>\n",
       "      <td id=\"T_0d96e_row0_col0\" class=\"data row0 col0\" >Random Forest Classifier</td>\n",
       "      <td id=\"T_0d96e_row0_col1\" class=\"data row0 col1\" >0.8181</td>\n",
       "      <td id=\"T_0d96e_row0_col2\" class=\"data row0 col2\" >0.9258</td>\n",
       "      <td id=\"T_0d96e_row0_col3\" class=\"data row0 col3\" >0.6595</td>\n",
       "      <td id=\"T_0d96e_row0_col4\" class=\"data row0 col4\" >0.7976</td>\n",
       "      <td id=\"T_0d96e_row0_col5\" class=\"data row0 col5\" >0.6804</td>\n",
       "      <td id=\"T_0d96e_row0_col6\" class=\"data row0 col6\" >0.5635</td>\n",
       "      <td id=\"T_0d96e_row0_col7\" class=\"data row0 col7\" >0.5916</td>\n",
       "      <td id=\"T_0d96e_row0_col8\" class=\"data row0 col8\" >0.0260</td>\n",
       "    </tr>\n",
       "    <tr>\n",
       "      <th id=\"T_0d96e_level0_row1\" class=\"row_heading level0 row1\" >et</th>\n",
       "      <td id=\"T_0d96e_row1_col0\" class=\"data row1 col0\" >Extra Trees Classifier</td>\n",
       "      <td id=\"T_0d96e_row1_col1\" class=\"data row1 col1\" >0.8088</td>\n",
       "      <td id=\"T_0d96e_row1_col2\" class=\"data row1 col2\" >0.8891</td>\n",
       "      <td id=\"T_0d96e_row1_col3\" class=\"data row1 col3\" >0.5548</td>\n",
       "      <td id=\"T_0d96e_row1_col4\" class=\"data row1 col4\" >0.8342</td>\n",
       "      <td id=\"T_0d96e_row1_col5\" class=\"data row1 col5\" >0.6383</td>\n",
       "      <td id=\"T_0d96e_row1_col6\" class=\"data row1 col6\" >0.5214</td>\n",
       "      <td id=\"T_0d96e_row1_col7\" class=\"data row1 col7\" >0.5524</td>\n",
       "      <td id=\"T_0d96e_row1_col8\" class=\"data row1 col8\" >0.0220</td>\n",
       "    </tr>\n",
       "    <tr>\n",
       "      <th id=\"T_0d96e_level0_row2\" class=\"row_heading level0 row2\" >lightgbm</th>\n",
       "      <td id=\"T_0d96e_row2_col0\" class=\"data row2 col0\" >Light Gradient Boosting Machine</td>\n",
       "      <td id=\"T_0d96e_row2_col1\" class=\"data row2 col1\" >0.8040</td>\n",
       "      <td id=\"T_0d96e_row2_col2\" class=\"data row2 col2\" >0.8649</td>\n",
       "      <td id=\"T_0d96e_row2_col3\" class=\"data row2 col3\" >0.6119</td>\n",
       "      <td id=\"T_0d96e_row2_col4\" class=\"data row2 col4\" >0.7621</td>\n",
       "      <td id=\"T_0d96e_row2_col5\" class=\"data row2 col5\" >0.6562</td>\n",
       "      <td id=\"T_0d96e_row2_col6\" class=\"data row2 col6\" >0.5247</td>\n",
       "      <td id=\"T_0d96e_row2_col7\" class=\"data row2 col7\" >0.5465</td>\n",
       "      <td id=\"T_0d96e_row2_col8\" class=\"data row2 col8\" >0.0370</td>\n",
       "    </tr>\n",
       "    <tr>\n",
       "      <th id=\"T_0d96e_level0_row3\" class=\"row_heading level0 row3\" >gbc</th>\n",
       "      <td id=\"T_0d96e_row3_col0\" class=\"data row3 col0\" >Gradient Boosting Classifier</td>\n",
       "      <td id=\"T_0d96e_row3_col1\" class=\"data row3 col1\" >0.7990</td>\n",
       "      <td id=\"T_0d96e_row3_col2\" class=\"data row3 col2\" >0.8702</td>\n",
       "      <td id=\"T_0d96e_row3_col3\" class=\"data row3 col3\" >0.6143</td>\n",
       "      <td id=\"T_0d96e_row3_col4\" class=\"data row3 col4\" >0.7835</td>\n",
       "      <td id=\"T_0d96e_row3_col5\" class=\"data row3 col5\" >0.6444</td>\n",
       "      <td id=\"T_0d96e_row3_col6\" class=\"data row3 col6\" >0.5138</td>\n",
       "      <td id=\"T_0d96e_row3_col7\" class=\"data row3 col7\" >0.5482</td>\n",
       "      <td id=\"T_0d96e_row3_col8\" class=\"data row3 col8\" >0.0190</td>\n",
       "    </tr>\n",
       "    <tr>\n",
       "      <th id=\"T_0d96e_level0_row4\" class=\"row_heading level0 row4\" >lr</th>\n",
       "      <td id=\"T_0d96e_row4_col0\" class=\"data row4 col0\" >Logistic Regression</td>\n",
       "      <td id=\"T_0d96e_row4_col1\" class=\"data row4 col1\" >0.7855</td>\n",
       "      <td id=\"T_0d96e_row4_col2\" class=\"data row4 col2\" >0.8864</td>\n",
       "      <td id=\"T_0d96e_row4_col3\" class=\"data row4 col3\" >0.6167</td>\n",
       "      <td id=\"T_0d96e_row4_col4\" class=\"data row4 col4\" >0.7429</td>\n",
       "      <td id=\"T_0d96e_row4_col5\" class=\"data row4 col5\" >0.6441</td>\n",
       "      <td id=\"T_0d96e_row4_col6\" class=\"data row4 col6\" >0.4973</td>\n",
       "      <td id=\"T_0d96e_row4_col7\" class=\"data row4 col7\" >0.5213</td>\n",
       "      <td id=\"T_0d96e_row4_col8\" class=\"data row4 col8\" >0.4410</td>\n",
       "    </tr>\n",
       "    <tr>\n",
       "      <th id=\"T_0d96e_level0_row5\" class=\"row_heading level0 row5\" >lda</th>\n",
       "      <td id=\"T_0d96e_row5_col0\" class=\"data row5 col0\" >Linear Discriminant Analysis</td>\n",
       "      <td id=\"T_0d96e_row5_col1\" class=\"data row5 col1\" >0.7855</td>\n",
       "      <td id=\"T_0d96e_row5_col2\" class=\"data row5 col2\" >0.8719</td>\n",
       "      <td id=\"T_0d96e_row5_col3\" class=\"data row5 col3\" >0.6310</td>\n",
       "      <td id=\"T_0d96e_row5_col4\" class=\"data row5 col4\" >0.7076</td>\n",
       "      <td id=\"T_0d96e_row5_col5\" class=\"data row5 col5\" >0.6519</td>\n",
       "      <td id=\"T_0d96e_row5_col6\" class=\"data row5 col6\" >0.5013</td>\n",
       "      <td id=\"T_0d96e_row5_col7\" class=\"data row5 col7\" >0.5137</td>\n",
       "      <td id=\"T_0d96e_row5_col8\" class=\"data row5 col8\" >0.0100</td>\n",
       "    </tr>\n",
       "    <tr>\n",
       "      <th id=\"T_0d96e_level0_row6\" class=\"row_heading level0 row6\" >nb</th>\n",
       "      <td id=\"T_0d96e_row6_col0\" class=\"data row6 col0\" >Naive Bayes</td>\n",
       "      <td id=\"T_0d96e_row6_col1\" class=\"data row6 col1\" >0.7805</td>\n",
       "      <td id=\"T_0d96e_row6_col2\" class=\"data row6 col2\" >0.8355</td>\n",
       "      <td id=\"T_0d96e_row6_col3\" class=\"data row6 col3\" >0.4976</td>\n",
       "      <td id=\"T_0d96e_row6_col4\" class=\"data row6 col4\" >0.7083</td>\n",
       "      <td id=\"T_0d96e_row6_col5\" class=\"data row6 col5\" >0.5642</td>\n",
       "      <td id=\"T_0d96e_row6_col6\" class=\"data row6 col6\" >0.4393</td>\n",
       "      <td id=\"T_0d96e_row6_col7\" class=\"data row6 col7\" >0.4596</td>\n",
       "      <td id=\"T_0d96e_row6_col8\" class=\"data row6 col8\" >0.0050</td>\n",
       "    </tr>\n",
       "    <tr>\n",
       "      <th id=\"T_0d96e_level0_row7\" class=\"row_heading level0 row7\" >ada</th>\n",
       "      <td id=\"T_0d96e_row7_col0\" class=\"data row7 col0\" >Ada Boost Classifier</td>\n",
       "      <td id=\"T_0d96e_row7_col1\" class=\"data row7 col1\" >0.7802</td>\n",
       "      <td id=\"T_0d96e_row7_col2\" class=\"data row7 col2\" >0.8264</td>\n",
       "      <td id=\"T_0d96e_row7_col3\" class=\"data row7 col3\" >0.5833</td>\n",
       "      <td id=\"T_0d96e_row7_col4\" class=\"data row7 col4\" >0.7251</td>\n",
       "      <td id=\"T_0d96e_row7_col5\" class=\"data row7 col5\" >0.6302</td>\n",
       "      <td id=\"T_0d96e_row7_col6\" class=\"data row7 col6\" >0.4778</td>\n",
       "      <td id=\"T_0d96e_row7_col7\" class=\"data row7 col7\" >0.4938</td>\n",
       "      <td id=\"T_0d96e_row7_col8\" class=\"data row7 col8\" >0.0180</td>\n",
       "    </tr>\n",
       "    <tr>\n",
       "      <th id=\"T_0d96e_level0_row8\" class=\"row_heading level0 row8\" >ridge</th>\n",
       "      <td id=\"T_0d96e_row8_col0\" class=\"data row8 col0\" >Ridge Classifier</td>\n",
       "      <td id=\"T_0d96e_row8_col1\" class=\"data row8 col1\" >0.7712</td>\n",
       "      <td id=\"T_0d96e_row8_col2\" class=\"data row8 col2\" >0.8729</td>\n",
       "      <td id=\"T_0d96e_row8_col3\" class=\"data row8 col3\" >0.5857</td>\n",
       "      <td id=\"T_0d96e_row8_col4\" class=\"data row8 col4\" >0.6976</td>\n",
       "      <td id=\"T_0d96e_row8_col5\" class=\"data row8 col5\" >0.6190</td>\n",
       "      <td id=\"T_0d96e_row8_col6\" class=\"data row8 col6\" >0.4608</td>\n",
       "      <td id=\"T_0d96e_row8_col7\" class=\"data row8 col7\" >0.4771</td>\n",
       "      <td id=\"T_0d96e_row8_col8\" class=\"data row8 col8\" >0.0080</td>\n",
       "    </tr>\n",
       "    <tr>\n",
       "      <th id=\"T_0d96e_level0_row9\" class=\"row_heading level0 row9\" >dt</th>\n",
       "      <td id=\"T_0d96e_row9_col0\" class=\"data row9 col0\" >Decision Tree Classifier</td>\n",
       "      <td id=\"T_0d96e_row9_col1\" class=\"data row9 col1\" >0.7557</td>\n",
       "      <td id=\"T_0d96e_row9_col2\" class=\"data row9 col2\" >0.7236</td>\n",
       "      <td id=\"T_0d96e_row9_col3\" class=\"data row9 col3\" >0.6381</td>\n",
       "      <td id=\"T_0d96e_row9_col4\" class=\"data row9 col4\" >0.6218</td>\n",
       "      <td id=\"T_0d96e_row9_col5\" class=\"data row9 col5\" >0.6204</td>\n",
       "      <td id=\"T_0d96e_row9_col6\" class=\"data row9 col6\" >0.4417</td>\n",
       "      <td id=\"T_0d96e_row9_col7\" class=\"data row9 col7\" >0.4499</td>\n",
       "      <td id=\"T_0d96e_row9_col8\" class=\"data row9 col8\" >0.0060</td>\n",
       "    </tr>\n",
       "    <tr>\n",
       "      <th id=\"T_0d96e_level0_row10\" class=\"row_heading level0 row10\" >qda</th>\n",
       "      <td id=\"T_0d96e_row10_col0\" class=\"data row10 col0\" >Quadratic Discriminant Analysis</td>\n",
       "      <td id=\"T_0d96e_row10_col1\" class=\"data row10 col1\" >0.7464</td>\n",
       "      <td id=\"T_0d96e_row10_col2\" class=\"data row10 col2\" >0.7814</td>\n",
       "      <td id=\"T_0d96e_row10_col3\" class=\"data row10 col3\" >0.4619</td>\n",
       "      <td id=\"T_0d96e_row10_col4\" class=\"data row10 col4\" >0.6304</td>\n",
       "      <td id=\"T_0d96e_row10_col5\" class=\"data row10 col5\" >0.5106</td>\n",
       "      <td id=\"T_0d96e_row10_col6\" class=\"data row10 col6\" >0.3609</td>\n",
       "      <td id=\"T_0d96e_row10_col7\" class=\"data row10 col7\" >0.3775</td>\n",
       "      <td id=\"T_0d96e_row10_col8\" class=\"data row10 col8\" >0.0090</td>\n",
       "    </tr>\n",
       "    <tr>\n",
       "      <th id=\"T_0d96e_level0_row11\" class=\"row_heading level0 row11\" >dummy</th>\n",
       "      <td id=\"T_0d96e_row11_col0\" class=\"data row11 col0\" >Dummy Classifier</td>\n",
       "      <td id=\"T_0d96e_row11_col1\" class=\"data row11 col1\" >0.6795</td>\n",
       "      <td id=\"T_0d96e_row11_col2\" class=\"data row11 col2\" >0.5000</td>\n",
       "      <td id=\"T_0d96e_row11_col3\" class=\"data row11 col3\" >0.0000</td>\n",
       "      <td id=\"T_0d96e_row11_col4\" class=\"data row11 col4\" >0.0000</td>\n",
       "      <td id=\"T_0d96e_row11_col5\" class=\"data row11 col5\" >0.0000</td>\n",
       "      <td id=\"T_0d96e_row11_col6\" class=\"data row11 col6\" >0.0000</td>\n",
       "      <td id=\"T_0d96e_row11_col7\" class=\"data row11 col7\" >0.0000</td>\n",
       "      <td id=\"T_0d96e_row11_col8\" class=\"data row11 col8\" >0.0050</td>\n",
       "    </tr>\n",
       "    <tr>\n",
       "      <th id=\"T_0d96e_level0_row12\" class=\"row_heading level0 row12\" >knn</th>\n",
       "      <td id=\"T_0d96e_row12_col0\" class=\"data row12 col0\" >K Neighbors Classifier</td>\n",
       "      <td id=\"T_0d96e_row12_col1\" class=\"data row12 col1\" >0.6217</td>\n",
       "      <td id=\"T_0d96e_row12_col2\" class=\"data row12 col2\" >0.5446</td>\n",
       "      <td id=\"T_0d96e_row12_col3\" class=\"data row12 col3\" >0.1452</td>\n",
       "      <td id=\"T_0d96e_row12_col4\" class=\"data row12 col4\" >0.3167</td>\n",
       "      <td id=\"T_0d96e_row12_col5\" class=\"data row12 col5\" >0.1811</td>\n",
       "      <td id=\"T_0d96e_row12_col6\" class=\"data row12 col6\" >-0.0119</td>\n",
       "      <td id=\"T_0d96e_row12_col7\" class=\"data row12 col7\" >-0.0101</td>\n",
       "      <td id=\"T_0d96e_row12_col8\" class=\"data row12 col8\" >0.2600</td>\n",
       "    </tr>\n",
       "    <tr>\n",
       "      <th id=\"T_0d96e_level0_row13\" class=\"row_heading level0 row13\" >svm</th>\n",
       "      <td id=\"T_0d96e_row13_col0\" class=\"data row13 col0\" >SVM - Linear Kernel</td>\n",
       "      <td id=\"T_0d96e_row13_col1\" class=\"data row13 col1\" >0.6033</td>\n",
       "      <td id=\"T_0d96e_row13_col2\" class=\"data row13 col2\" >0.5379</td>\n",
       "      <td id=\"T_0d96e_row13_col3\" class=\"data row13 col3\" >0.2000</td>\n",
       "      <td id=\"T_0d96e_row13_col4\" class=\"data row13 col4\" >0.0619</td>\n",
       "      <td id=\"T_0d96e_row13_col5\" class=\"data row13 col5\" >0.0944</td>\n",
       "      <td id=\"T_0d96e_row13_col6\" class=\"data row13 col6\" >0.0000</td>\n",
       "      <td id=\"T_0d96e_row13_col7\" class=\"data row13 col7\" >0.0000</td>\n",
       "      <td id=\"T_0d96e_row13_col8\" class=\"data row13 col8\" >0.0050</td>\n",
       "    </tr>\n",
       "  </tbody>\n",
       "</table>\n"
      ],
      "text/plain": [
       "<pandas.io.formats.style.Styler at 0x1f1626ba590>"
      ]
     },
     "metadata": {},
     "output_type": "display_data"
    },
    {
     "data": {
      "text/html": [],
      "text/plain": [
       "<IPython.core.display.HTML object>"
      ]
     },
     "metadata": {},
     "output_type": "display_data"
    },
    {
     "name": "stderr",
     "output_type": "stream",
     "text": [
      "c:\\Users\\User\\AppData\\Local\\Programs\\Python\\Python311\\Lib\\site-packages\\pycaret\\internal\\pycaret_experiment\\supervised_experiment.py:339: FutureWarning: Styler.applymap has been deprecated. Use Styler.map instead.\n",
      "  .applymap(highlight_cols, subset=[\"TT (Sec)\"])\n"
     ]
    }
   ],
   "source": [
    "best_model=s.compare_models()"
   ]
  },
  {
   "cell_type": "code",
   "execution_count": null,
   "id": "55bbd187",
   "metadata": {},
   "outputs": [
    {
     "data": {
      "application/vnd.jupyter.widget-view+json": {
       "model_id": "ca7b1d29121d43808cdf118bfa7ca761",
       "version_major": 2,
       "version_minor": 0
      },
      "text/plain": [
       "interactive(children=(ToggleButtons(description='Plot Type:', icons=('',), options=(('Pipeline Plot', 'pipelin…"
      ]
     },
     "metadata": {},
     "output_type": "display_data"
    }
   ],
   "source": [
    "s.evaluate_model(best_model)"
   ]
  },
  {
   "cell_type": "code",
   "execution_count": 9,
   "id": "9ee77c84",
   "metadata": {},
   "outputs": [
    {
     "name": "stdout",
     "output_type": "stream",
     "text": [
      "Transformation Pipeline and Model Successfully Saved\n"
     ]
    },
    {
     "data": {
      "text/plain": [
       "(Pipeline(memory=Memory(location=None),\n",
       "          steps=[('numerical_imputer',\n",
       "                  TransformerWrapper(exclude=None,\n",
       "                                     include=['age', 'anaemia',\n",
       "                                              'creatinine_phosphokinase',\n",
       "                                              'diabetes', 'ejection_fraction',\n",
       "                                              'high_blood_pressure', 'platelets',\n",
       "                                              'serum_creatinine', 'serum_sodium',\n",
       "                                              'sex', 'smoking', 'time'],\n",
       "                                     transformer=SimpleImputer(add_indicator=False,\n",
       "                                                               copy=True,\n",
       "                                                               fill_value=None,\n",
       "                                                               keep_...\n",
       "                  RandomForestClassifier(bootstrap=True, ccp_alpha=0.0,\n",
       "                                         class_weight=None, criterion='gini',\n",
       "                                         max_depth=None, max_features='sqrt',\n",
       "                                         max_leaf_nodes=None, max_samples=None,\n",
       "                                         min_impurity_decrease=0.0,\n",
       "                                         min_samples_leaf=1, min_samples_split=2,\n",
       "                                         min_weight_fraction_leaf=0.0,\n",
       "                                         monotonic_cst=None, n_estimators=100,\n",
       "                                         n_jobs=-1, oob_score=False,\n",
       "                                         random_state=123, verbose=0,\n",
       "                                         warm_start=False))],\n",
       "          verbose=False),\n",
       " 'Best_model.pkl')"
      ]
     },
     "execution_count": 9,
     "metadata": {},
     "output_type": "execute_result"
    }
   ],
   "source": [
    "s.save_model(best_model, \"Best_model\")"
   ]
  },
  {
   "cell_type": "code",
   "execution_count": null,
   "id": "15f0ac11",
   "metadata": {},
   "outputs": [],
   "source": []
  },
  {
   "cell_type": "code",
   "execution_count": null,
   "id": "0c553ea5",
   "metadata": {},
   "outputs": [],
   "source": []
  }
 ],
 "metadata": {
  "kernelspec": {
   "display_name": "Python 3",
   "language": "python",
   "name": "python3"
  },
  "language_info": {
   "codemirror_mode": {
    "name": "ipython",
    "version": 3
   },
   "file_extension": ".py",
   "mimetype": "text/x-python",
   "name": "python",
   "nbconvert_exporter": "python",
   "pygments_lexer": "ipython3",
   "version": "3.11.0"
  }
 },
 "nbformat": 4,
 "nbformat_minor": 5
}
